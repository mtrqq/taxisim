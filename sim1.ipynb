{
 "cells": [
  {
   "cell_type": "code",
   "execution_count": 1,
   "id": "ae330fe8-9f40-4543-8433-b103516fb25d",
   "metadata": {},
   "outputs": [],
   "source": [
    "# %load_ext autoreload\n",
    "# %autoreload 2"
   ]
  },
  {
   "cell_type": "code",
   "execution_count": 2,
   "id": "9c09b0c0-07f7-4138-978e-142fe471932d",
   "metadata": {},
   "outputs": [],
   "source": [
    "from taxisim.model import SimulationModel\n",
    "from taxisim.taxi import TaxiService\n",
    "from taxisim.taxi.strat import any_free_car\n",
    "from taxisim.taxi.strat import price_per_unit\n",
    "from taxisim.friends import FriendsService\n",
    "from taxisim.model import Parameters\n",
    "from taxisim.point import Point"
   ]
  },
  {
   "cell_type": "code",
   "execution_count": 18,
   "id": "6f56fd60",
   "metadata": {},
   "outputs": [],
   "source": [
    "TICKS_PER_HOUR = 20 # 1 tick = 3 mins\n",
    "TICKS_PER_DAY = 24 * TICKS_PER_HOUR\n",
    "\n",
    "BALANCE_INCREMENT = 50 / TICKS_PER_DAY\n",
    "PRICE_PER_UNIT = 0.0\n",
    "CAR_SPEED = (80 * 1000) / TICKS_PER_HOUR # 60km/h\n",
    "LONELY_CHANCE = 2 / TICKS_PER_DAY\n",
    "TIRED_CHANCE = 0.3 / TICKS_PER_HOUR\n",
    "SHOULD_WAIT = lambda t, p: True\n",
    "INITIAL_BALANCE = 100\n",
    "\n",
    "CARS_COUNT = 150\n",
    "HUMAN_COUNT = 3000\n",
    "CITYBOX = Point.from_numbers(0, 0), Point.from_numbers(30000, 30000)"
   ]
  },
  {
   "cell_type": "code",
   "execution_count": 19,
   "id": "2393a543-78de-4bd7-8214-9cc3d0029452",
   "metadata": {},
   "outputs": [
    {
     "name": "stderr",
     "output_type": "stream",
     "text": [
      "100%|██████████| 3360/3360 [01:36<00:00, 34.98it/s]\n"
     ]
    }
   ],
   "source": [
    "taxi = TaxiService(\n",
    "    car_finder=any_free_car(), price_calculator=price_per_unit(PRICE_PER_UNIT)\n",
    ")\n",
    "friends = FriendsService()\n",
    "\n",
    "simulation = SimulationModel(\n",
    "    taxi=taxi,\n",
    "    friends=friends,\n",
    "    cars=CARS_COUNT,\n",
    "    people=HUMAN_COUNT,\n",
    "    n_ticks=TICKS_PER_DAY * 7,\n",
    "    parameters=Parameters(\n",
    "        lonely_chance=LONELY_CHANCE,\n",
    "        car_speed=CAR_SPEED,\n",
    "        tired_chance=TIRED_CHANCE,\n",
    "        waiter=SHOULD_WAIT,\n",
    "        balance_increment=BALANCE_INCREMENT,\n",
    "        initial_balance=INITIAL_BALANCE,\n",
    "        city_box=CITYBOX,\n",
    "    ),\n",
    ")\n",
    "\n",
    "with taxi:\n",
    "    with friends:\n",
    "        simulation.run_model(with_progress=True)\n"
   ]
  },
  {
   "cell_type": "code",
   "execution_count": 20,
   "id": "b0e99e13-9033-461b-b48c-45811c970ee4",
   "metadata": {},
   "outputs": [
    {
     "data": {
      "text/html": [
       "<div>\n",
       "<style scoped>\n",
       "    .dataframe tbody tr th:only-of-type {\n",
       "        vertical-align: middle;\n",
       "    }\n",
       "\n",
       "    .dataframe tbody tr th {\n",
       "        vertical-align: top;\n",
       "    }\n",
       "\n",
       "    .dataframe thead th {\n",
       "        text-align: right;\n",
       "    }\n",
       "</style>\n",
       "<table border=\"1\" class=\"dataframe\">\n",
       "  <thead>\n",
       "    <tr style=\"text-align: right;\">\n",
       "      <th></th>\n",
       "      <th>AverageWaitTime</th>\n",
       "    </tr>\n",
       "  </thead>\n",
       "  <tbody>\n",
       "    <tr>\n",
       "      <th>3355</th>\n",
       "      <td>4.369176</td>\n",
       "    </tr>\n",
       "    <tr>\n",
       "      <th>3356</th>\n",
       "      <td>4.369085</td>\n",
       "    </tr>\n",
       "    <tr>\n",
       "      <th>3357</th>\n",
       "      <td>4.368796</td>\n",
       "    </tr>\n",
       "    <tr>\n",
       "      <th>3358</th>\n",
       "      <td>4.368494</td>\n",
       "    </tr>\n",
       "    <tr>\n",
       "      <th>3359</th>\n",
       "      <td>4.368466</td>\n",
       "    </tr>\n",
       "  </tbody>\n",
       "</table>\n",
       "</div>"
      ],
      "text/plain": [
       "      AverageWaitTime\n",
       "3355         4.369176\n",
       "3356         4.369085\n",
       "3357         4.368796\n",
       "3358         4.368494\n",
       "3359         4.368466"
      ]
     },
     "execution_count": 20,
     "metadata": {},
     "output_type": "execute_result"
    }
   ],
   "source": [
    "model_vars = simulation.get_statistics()\n",
    "wait_time = model_vars.drop(model_vars.columns.difference(['AverageWaitTime']), axis=1)\n",
    "wait_time.tail()"
   ]
  },
  {
   "cell_type": "code",
   "execution_count": 21,
   "id": "00c6de50-9b42-4fad-abf0-a317f38cf1a6",
   "metadata": {},
   "outputs": [
    {
     "data": {
      "text/plain": [
       "<AxesSubplot:>"
      ]
     },
     "execution_count": 21,
     "metadata": {},
     "output_type": "execute_result"
    },
    {
     "data": {
      "image/png": "[encoded data removed]",
      "text/plain": [
       "<Figure size 432x288 with 1 Axes>"
      ]
     },
     "metadata": {
      "needs_background": "light"
     },
     "output_type": "display_data"
    }
   ],
   "source": [
    "wait_time.plot()"
   ]
  }
 ],
 "metadata": {
  "kernelspec": {
   "display_name": "Python 3.10.4 ('taxisim')",
   "language": "python",
   "name": "python3"
  },
  "language_info": {
   "codemirror_mode": {
    "name": "ipython",
    "version": 3
   },
   "file_extension": ".py",
   "mimetype": "text/x-python",
   "name": "python",
   "nbconvert_exporter": "python",
   "pygments_lexer": "ipython3",
   "version": "3.10.4"
  },
  "vscode": {
   "interpreter": {
    "hash": "d702f09309785715ba9aad3aca121baf52947731203caa2e75a678624d5830b3"
   }
  }
 },
 "nbformat": 4,
 "nbformat_minor": 5
}
